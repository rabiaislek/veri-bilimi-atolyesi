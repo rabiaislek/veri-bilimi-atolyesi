{
 "cells": [
  {
   "cell_type": "markdown",
   "id": "075251d7-c697-466c-9614-50fececf4e43",
   "metadata": {},
   "source": [
    "Ödev-1: Değişkenlere atanmış değerlerin veri tipleri arasında dönüşüm yapılır."
   ]
  },
  {
   "cell_type": "code",
   "execution_count": 8,
   "id": "38b8140d-e899-4a40-9ef4-9136d9cdeba6",
   "metadata": {},
   "outputs": [],
   "source": [
    "value = 5\n",
    "value2 = \"100\"\n",
    "value3 = 5.6\n",
    "value4 = True"
   ]
  },
  {
   "cell_type": "code",
   "execution_count": 78,
   "id": "c34f7685-b81c-402e-9766-6c37455abe1c",
   "metadata": {},
   "outputs": [],
   "source": [
    "type(value)   #integer\n",
    "type(value2)  #string\n",
    "type(value3)  #float\n",
    "type(value4)  #boolean"
   ]
  },
  {
   "cell_type": "code",
   "execution_count": 9,
   "id": "710d2273-05fe-4d58-ad43-89d871936275",
   "metadata": {},
   "outputs": [
    {
     "name": "stdout",
     "output_type": "stream",
     "text": [
      "1\n",
      "5.6\n",
      "5.0\n",
      "True\n"
     ]
    }
   ],
   "source": [
    "print(int(value4))\n",
    "print(str(value3))\n",
    "print(float(value))\n",
    "print(bool(value2))"
   ]
  },
  {
   "cell_type": "code",
   "execution_count": null,
   "id": "5247dcb3-01b7-40f6-a27c-845434dfd003",
   "metadata": {},
   "outputs": [],
   "source": []
  },
  {
   "cell_type": "code",
   "execution_count": null,
   "id": "4cd12e86-6550-42d2-afe9-79d03c1d4564",
   "metadata": {},
   "outputs": [],
   "source": []
  },
  {
   "cell_type": "markdown",
   "id": "ab367701-e872-4a47-b3b5-9f51cae587f9",
   "metadata": {},
   "source": [
    "Ödev-2: İsimlerden oluşan üç değişkene yaş değerleri atanır. Belirlenen üç değişken birbiriyle karşılaştırma operatörleri ile karşılaştırılır. Bu karşılaştırmalara mantıksal operatörler de eklenir."
   ]
  },
  {
   "cell_type": "code",
   "execution_count": 17,
   "id": "95792af6-1222-4894-965f-27648363f1ab",
   "metadata": {},
   "outputs": [],
   "source": [
    "ecenaz = 14\n",
    "toprak = 8\n",
    "sumeyye = 43"
   ]
  },
  {
   "cell_type": "code",
   "execution_count": 64,
   "id": "874e8f49-b456-4e4a-bf9c-52fba1693ccb",
   "metadata": {},
   "outputs": [
    {
     "name": "stdout",
     "output_type": "stream",
     "text": [
      "ecenaz, sumeyyeden buyuktur.  False\n"
     ]
    }
   ],
   "source": [
    "print(f\"ecenaz, sumeyyeden buyuktur.  {ecenaz > sumeyye }\")"
   ]
  },
  {
   "cell_type": "code",
   "execution_count": 66,
   "id": "13dc0778-67b5-4594-94e9-5a4484d20954",
   "metadata": {},
   "outputs": [
    {
     "name": "stdout",
     "output_type": "stream",
     "text": [
      "ecenaz sumeyyeden kucuk ve topraktan buyuktur. True\n"
     ]
    }
   ],
   "source": [
    "print(f\"ecenaz sumeyyeden kucuk ve topraktan buyuktur. { ecenaz < sumeyye and ecenaz > toprak }\")"
   ]
  },
  {
   "cell_type": "code",
   "execution_count": 21,
   "id": "97f18416-4746-49d3-b375-257bcb847f74",
   "metadata": {},
   "outputs": [
    {
     "name": "stdout",
     "output_type": "stream",
     "text": [
      "toprak sumeyyeden kucuk veya ecenazdan buyuktur. True\n"
     ]
    }
   ],
   "source": [
    "print(f\"toprak sumeyyeden kucuk veya ecenazdan buyuktur. { toprak < sumeyye or toprak > ecenaz }\")"
   ]
  },
  {
   "cell_type": "code",
   "execution_count": null,
   "id": "1ca7d1f0-77df-40f9-8d50-84831c027432",
   "metadata": {},
   "outputs": [],
   "source": []
  },
  {
   "cell_type": "code",
   "execution_count": null,
   "id": "0ada7b22-446c-4c99-a1de-f13289757fb6",
   "metadata": {},
   "outputs": [],
   "source": []
  },
  {
   "cell_type": "markdown",
   "id": "ef9cd289-3ade-4e2d-8154-cd416849d00b",
   "metadata": {},
   "source": [
    "Ödev-3: Kullanıcıdan iki değer girmesini istenir. Girilen değerlerin toplama, çıkarma, çarpma, bölme sonuçlarını yazdırılır."
   ]
  },
  {
   "cell_type": "code",
   "execution_count": 22,
   "id": "8c8ea704-38ff-4cef-a162-6fed14fe377e",
   "metadata": {},
   "outputs": [
    {
     "name": "stdin",
     "output_type": "stream",
     "text": [
      "Birinci degeri girin 27.3\n"
     ]
    }
   ],
   "source": [
    "value = float(input(\"Birinci degeri girin\"))"
   ]
  },
  {
   "cell_type": "code",
   "execution_count": 23,
   "id": "447dfd50-5ebd-4ec7-b4e1-f8e5f1a2a96d",
   "metadata": {},
   "outputs": [
    {
     "name": "stdin",
     "output_type": "stream",
     "text": [
      "Ikinci degeri girin 15\n"
     ]
    }
   ],
   "source": [
    "value2 = float(input(\"Ikinci degeri girin\"))"
   ]
  },
  {
   "cell_type": "code",
   "execution_count": 31,
   "id": "326c749c-05e2-4015-ae4c-3665c962e016",
   "metadata": {},
   "outputs": [
    {
     "name": "stdout",
     "output_type": "stream",
     "text": [
      "42.3\n",
      "12.3\n",
      "409.5\n",
      "1.82\n"
     ]
    }
   ],
   "source": [
    "toplama = value + value2\n",
    "print(toplama)\n",
    "\n",
    "cikarma = value - value2\n",
    "print(cikarma)\n",
    "\n",
    "carpma = value * value2\n",
    "print(carpma)\n",
    "\n",
    "bolme = value / value2\n",
    "print(bolme)"
   ]
  },
  {
   "cell_type": "code",
   "execution_count": null,
   "id": "7fd76dbc-70f7-4e2f-b473-f8338966db68",
   "metadata": {},
   "outputs": [],
   "source": []
  },
  {
   "cell_type": "code",
   "execution_count": null,
   "id": "7082ca76-bff7-4fc3-bf9d-5e0d8da30d8a",
   "metadata": {},
   "outputs": [],
   "source": []
  },
  {
   "cell_type": "markdown",
   "id": "ed1e4d77-1b39-4af9-bd84-04128b54c445",
   "metadata": {},
   "source": [
    "Ödev-4: Kullanıcıdan isim, yaş, şehir ve meslek bilgilerini istenir ve cevaplarını yazdırılır.]:"
   ]
  },
  {
   "cell_type": "code",
   "execution_count": 33,
   "id": "1a47c51e-41f1-44c5-999d-1e2d535bb3ff",
   "metadata": {},
   "outputs": [
    {
     "name": "stdin",
     "output_type": "stream",
     "text": [
      "isminiz:  yagmur\n",
      "yasiniz:  16\n",
      "sehir:  ankara\n",
      "mesleginiz:  ogrenci\n"
     ]
    }
   ],
   "source": [
    "isim = input(\"isminiz: \")\n",
    "yas = input(\"yasiniz: \")\n",
    "sehir = input(\"sehir: \")\n",
    "meslek = input(\"mesleginiz: \")"
   ]
  },
  {
   "cell_type": "code",
   "execution_count": 40,
   "id": "f10e15d4-ab21-481c-bc67-ee96ba424a2f",
   "metadata": {},
   "outputs": [
    {
     "name": "stdout",
     "output_type": "stream",
     "text": [
      "isim : yagmur\n",
      "yas : 16\n",
      "sehir : ankara\n",
      "meslek : ogrenci\n"
     ]
    }
   ],
   "source": [
    "print(f\"isim : {isim}\") \n",
    "print(f\"yas : {yas}\")\n",
    "print(f\"sehir : {sehir}\")\n",
    "print(f\"meslek : {meslek}\")"
   ]
  },
  {
   "cell_type": "code",
   "execution_count": null,
   "id": "039a3d00-bcb5-4bde-9d22-703050df3ae8",
   "metadata": {},
   "outputs": [],
   "source": []
  },
  {
   "cell_type": "code",
   "execution_count": null,
   "id": "c0692b7f-f790-4212-afdd-98e8cb52e3d5",
   "metadata": {},
   "outputs": [],
   "source": []
  },
  {
   "cell_type": "markdown",
   "id": "bf9e6307-8e13-499e-b196-92bf8b56db6b",
   "metadata": {},
   "source": [
    "Ödev-5: \"Yazılımla Güçlenen Kadınlar Veri Bilimi Atölyesi\" ifadesini bir değişkene tanımlanır.\n",
    "İfadedeki her bir kelimeyi (\"Yazılımla Güçlenen Kadınlar\", \"Veri\", \"Bilimi\", \"Atölyesi\") değişken içinden seçilir.\n",
    "İfadeyi hepsini büyük harf olacak hale çevrilir. (\"Yazılımla Güçlenen Kadınlar VERİ BİLİMİ ATÖLYESİ\")\n",
    "İfadeyi hepsini büyük harf olacak hale çevrilir.(\"Yazılımla Güçlenen Kadınlar veri bilimi atölyesi\")\n",
    "\n",
    "\"0123456789\" ifadesindeki yalnızca çift sayıları ve yalnızca tek sayıları seçilir. (\"02468\", \"13579\")"
   ]
  },
  {
   "cell_type": "code",
   "execution_count": 74,
   "id": "8d1f5689-5581-4df2-95d4-8df265aeb1ad",
   "metadata": {},
   "outputs": [
    {
     "name": "stdout",
     "output_type": "stream",
     "text": [
      "Yazılımla Güçlenen Kadınlar \n",
      "Veri \n",
      "Bilimi \n",
      "Atölyesi\n"
     ]
    }
   ],
   "source": [
    "ifade = \"Yazılımla Güçlenen Kadınlar Veri Bilimi Atölyesi\"\n",
    "k1 = ifade[0:28]\n",
    "k2 = ifade[28:33]\n",
    "k3 = ifade[33:40]\n",
    "k4 = ifade[40:]\n",
    "\n",
    "print(f\"{k1}\")\n",
    "print(f\"{k2}\")\n",
    "print(f\"{k3}\")\n",
    "print(f\"{k4}\")"
   ]
  },
  {
   "cell_type": "code",
   "execution_count": 83,
   "id": "efaa815d-12c7-4d45-8f7e-f6bc49486dce",
   "metadata": {},
   "outputs": [
    {
     "name": "stdout",
     "output_type": "stream",
     "text": [
      "Yazılımla Güçlenen Kadınlar VERI BILIMI ATÖLYESI\n",
      "Yazılımla Güçlenen Kadınlar veri bilimi atölyesi\n"
     ]
    }
   ],
   "source": [
    "ifade_upper = ifade.upper()\n",
    "ifade_lower = ifade.lower()\n",
    "\n",
    "print(k1 + ifade_upper[28:48])\n",
    "print(k1 + ifade_lower[28:48])"
   ]
  },
  {
   "cell_type": "code",
   "execution_count": 58,
   "id": "0cc50b34-41c5-49e9-983e-f8d9cec662c1",
   "metadata": {},
   "outputs": [
    {
     "name": "stdout",
     "output_type": "stream",
     "text": [
      "cift sayilar: 02468\n",
      "tek sayilar: 13579\n"
     ]
    }
   ],
   "source": [
    "sayi_ifadesi = \"0123456789\"\n",
    "cift = sayi_ifadesi[::2]\n",
    "tek = sayi_ifadesi[1::2]\n",
    "\n",
    "print(f\"cift sayilar: {cift}\")\n",
    "print(f\"tek sayilar: {tek}\")"
   ]
  },
  {
   "cell_type": "code",
   "execution_count": null,
   "id": "ce3d83e1-a97f-4a38-a528-21e6028f1899",
   "metadata": {},
   "outputs": [],
   "source": []
  },
  {
   "cell_type": "code",
   "execution_count": null,
   "id": "dcdb206c-dcc4-46d6-906b-68e13e8e49b6",
   "metadata": {},
   "outputs": [],
   "source": []
  }
 ],
 "metadata": {
  "kernelspec": {
   "display_name": "Python 3 (ipykernel)",
   "language": "python",
   "name": "python3"
  },
  "language_info": {
   "codemirror_mode": {
    "name": "ipython",
    "version": 3
   },
   "file_extension": ".py",
   "mimetype": "text/x-python",
   "name": "python",
   "nbconvert_exporter": "python",
   "pygments_lexer": "ipython3",
   "version": "3.11.7"
  }
 },
 "nbformat": 4,
 "nbformat_minor": 5
}
