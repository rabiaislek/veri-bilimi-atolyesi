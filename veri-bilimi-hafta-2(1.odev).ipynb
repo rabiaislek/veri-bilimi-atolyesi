{
 "cells": [
  {
   "cell_type": "markdown",
   "id": "2e9edc1b-406f-43f9-a48e-09f0d2b498cc",
   "metadata": {},
   "source": [
    "Kullanıcıdan maaş bilgisini istenir ve bu bilgiye göre maaşından ne kadar vergi kesileceğini hesaplanır. Kullanıcının geliri;\n",
    " 10000 ve altındaysa maaşından %5 kesinti olur. \n",
    " 25000 ve altındaysa maaşından %10 kesinti olur. \n",
    " 45000 ve altındaysa maaşından %25 kesinti olur. \n",
    " Diğer koşullarda %30 kesinti olur. \n",
    "Bu durumlara göre kullanıcının yeni maaşı yazdırılır."
   ]
  },
  {
   "cell_type": "code",
   "execution_count": 9,
   "id": "6cf027e0-7238-4209-ae06-3e810dd22c89",
   "metadata": {},
   "outputs": [
    {
     "name": "stdin",
     "output_type": "stream",
     "text": [
      "Maas bilginizi giriniz 18000\n"
     ]
    },
    {
     "name": "stdout",
     "output_type": "stream",
     "text": [
      "Yeni maasiniz: 16200.0\n"
     ]
    }
   ],
   "source": [
    "maas = int(input(\"Maas bilginizi giriniz\"))\n",
    "if maas <= 10000 :\n",
    "    yeni_maas = maas - maas*0.05\n",
    "elif 10000 < maas <= 25000 :\n",
    "    yeni_maas = maas - maas*0.1\n",
    "elif 25000 < maas <= 45000 :\n",
    "    yeni_maas = maas - maas*0.25\n",
    "else :\n",
    "    yeni_maas = maas - maas*0.3\n",
    "    \n",
    "print(\"Yeni maasiniz:\", yeni_maas)"
   ]
  },
  {
   "cell_type": "code",
   "execution_count": null,
   "id": "5ca44e4d-8ab6-4b13-8d39-b9f44f09055f",
   "metadata": {},
   "outputs": [],
   "source": []
  },
  {
   "cell_type": "code",
   "execution_count": null,
   "id": "c134574f-ae3f-4241-8d94-1a0aa624ee2c",
   "metadata": {},
   "outputs": [],
   "source": []
  },
  {
   "cell_type": "markdown",
   "id": "d7d64699-ca4b-4cf0-863d-d3fe4e2d4340",
   "metadata": {},
   "source": [
    "Kullanıcıdan kullanıcı adı ve şifre oluşturmasını istenir. Şifrenin uzunluğu altı haneye ulaşmışsa hesabınız oluşturuldu mesajı alınır, altı haneden azsa altı haneli şifre oluşturması gerektiğinin mesajı alınır. (Sadece koşul kullanılması yeterli.)"
   ]
  },
  {
   "cell_type": "code",
   "execution_count": 1,
   "id": "42fd7dba-7082-4cbe-9329-cd63509c9a10",
   "metadata": {},
   "outputs": [
    {
     "name": "stdin",
     "output_type": "stream",
     "text": [
      "Kullanici adi girin rabia\n",
      "Sifre olusturunuz 123\n"
     ]
    },
    {
     "name": "stdout",
     "output_type": "stream",
     "text": [
      "Sifre alti haneli olmali\n"
     ]
    }
   ],
   "source": [
    "kullanici_adi = input(\"Kullanici adi girin\")\n",
    "\n",
    "sifre = input(\"Sifre olusturunuz\")\n",
    "\n",
    "if len(sifre) >= 6 :\n",
    "    print(\"Hesabiniz olusturuldu\")\n",
    "else :\n",
    "    print(\"Sifre alti haneli olmali\")"
   ]
  },
  {
   "cell_type": "code",
   "execution_count": null,
   "id": "851fc3ba-e975-4aab-8d25-6b31cc58db9e",
   "metadata": {},
   "outputs": [],
   "source": []
  },
  {
   "cell_type": "code",
   "execution_count": null,
   "id": "86f15533-3631-4ee1-b002-acc8796eb728",
   "metadata": {},
   "outputs": [],
   "source": []
  },
  {
   "cell_type": "markdown",
   "id": "644ebfda-492e-4900-aa65-ce9506223c36",
   "metadata": {},
   "source": [
    "    Kullanıcı girdiği şifre 5 ve 10 hane arasında olmak zorunda. \n",
    " Eğer bu koşula uyuyorsa \"Hesabınız oluşturuldu.\" mesajı alır. \n",
    " Koşulu sağlamıyorsa \"Lütfen girdiniz şifre 5 haneden az 10 haneden fazla olmasın!\" uyarısı alır. \n",
    " Bunu oluştururken kullanıcı istediğimiz şartlarda şifre oluşturana kadar sormaya devam eder ."
   ]
  },
  {
   "cell_type": "code",
   "execution_count": 2,
   "id": "22578bf5-2a34-4c1c-b884-14fffba853b9",
   "metadata": {},
   "outputs": [
    {
     "name": "stdin",
     "output_type": "stream",
     "text": [
      "Sifre olusturunuz 456\n"
     ]
    },
    {
     "name": "stdout",
     "output_type": "stream",
     "text": [
      "Lütfen girdiniz şifre 5 haneden az 10 haneden fazla olmasın!\n"
     ]
    },
    {
     "name": "stdin",
     "output_type": "stream",
     "text": [
      "Sifre olusturunuz 12345678900\n"
     ]
    },
    {
     "name": "stdout",
     "output_type": "stream",
     "text": [
      "Lütfen girdiniz şifre 5 haneden az 10 haneden fazla olmasın!\n"
     ]
    },
    {
     "name": "stdin",
     "output_type": "stream",
     "text": [
      "Sifre olusturunuz 123456\n"
     ]
    },
    {
     "name": "stdout",
     "output_type": "stream",
     "text": [
      "Hesabiniz olusturuldu.\n"
     ]
    }
   ],
   "source": [
    "while True: \n",
    "    \n",
    "    sifre = input(\"Sifre olusturunuz\")\n",
    "\n",
    "    if 5 <= len(sifre) <= 10 :\n",
    "      print(\"Hesabiniz olusturuldu.\")\n",
    "      break\n",
    "    else : \n",
    "      print(\"Lütfen girdiniz şifre 5 haneden az 10 haneden fazla olmasın!\")\n",
    "    "
   ]
  },
  {
   "cell_type": "code",
   "execution_count": null,
   "id": "19e6bed8-c231-4cb5-a933-177bc8fcf3b1",
   "metadata": {},
   "outputs": [],
   "source": []
  },
  {
   "cell_type": "code",
   "execution_count": null,
   "id": "cacbca8e-a1e7-4ce4-a1e9-8cf88732eb9a",
   "metadata": {},
   "outputs": [],
   "source": []
  },
  {
   "cell_type": "markdown",
   "id": "1b057cec-db03-4ccd-a92e-d32febaad465",
   "metadata": {},
   "source": [
    " Kullanıcıdan isim ve şifre isteyeceğiz ve şifre girişi için üç hak verilir.\n",
    "\n",
    " Eğer önceden tanımlı şifre ile kullanıcıdan gelen şifre aynıysa \"Giriş yapıldı.\" yazar. \n",
    " Şifre girişi yanlışsa \"Yanlış şifre girildi!\" uyarısı verilsin ve üç yanlış denemede program biter. \n",
    " Tercihe göre kalan hak bilgisi verilir."
   ]
  },
  {
   "cell_type": "code",
   "execution_count": 3,
   "id": "868160a0-79ec-4014-a845-4641f99d8535",
   "metadata": {},
   "outputs": [
    {
     "name": "stdin",
     "output_type": "stream",
     "text": [
      "Kullanici adi girin rabia\n",
      "Sifre olusturunuz 14789\n"
     ]
    },
    {
     "name": "stdout",
     "output_type": "stream",
     "text": [
      "Sifre yanlis, kalan hakkiniz: 2\n"
     ]
    },
    {
     "name": "stdin",
     "output_type": "stream",
     "text": [
      "Sifre olusturunuz 36987\n"
     ]
    },
    {
     "name": "stdout",
     "output_type": "stream",
     "text": [
      "Sifre yanlis, kalan hakkiniz: 1\n"
     ]
    },
    {
     "name": "stdin",
     "output_type": "stream",
     "text": [
      "Sifre olusturunuz 123456\n"
     ]
    },
    {
     "name": "stdout",
     "output_type": "stream",
     "text": [
      "Giris yapildi\n"
     ]
    }
   ],
   "source": [
    "kullanici_adi = input(\"Kullanici adi girin\")\n",
    "hak_sayisi = 3\n",
    "\n",
    "while hak_sayisi > 0:\n",
    "    sifre_kontrol = input(\"Sifre olusturunuz\")\n",
    "    if sifre_kontrol == sifre :\n",
    "        print(\"Giris yapildi\")\n",
    "        break\n",
    "    else :\n",
    "        hak_sayisi -= 1 \n",
    "        if hak_sayisi > 0 :\n",
    "            print(\"Sifre yanlis, kalan hakkiniz:\", hak_sayisi)\n",
    "        else :\n",
    "            print(\"Sifre yanlis, hakkiniz kalmadi!\")\n",
    "    \n",
    "\n",
    "\n"
   ]
  },
  {
   "cell_type": "code",
   "execution_count": null,
   "id": "f757a067-b960-495f-8f6a-beff419fc2b3",
   "metadata": {},
   "outputs": [],
   "source": []
  }
 ],
 "metadata": {
  "kernelspec": {
   "display_name": "Python 3 (ipykernel)",
   "language": "python",
   "name": "python3"
  },
  "language_info": {
   "codemirror_mode": {
    "name": "ipython",
    "version": 3
   },
   "file_extension": ".py",
   "mimetype": "text/x-python",
   "name": "python",
   "nbconvert_exporter": "python",
   "pygments_lexer": "ipython3",
   "version": "3.11.7"
  }
 },
 "nbformat": 4,
 "nbformat_minor": 5
}
