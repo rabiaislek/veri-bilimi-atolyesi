{
 "cells": [
  {
   "cell_type": "markdown",
   "id": "501db3db-a77c-4ef4-a1fa-d2d946333ba7",
   "metadata": {},
   "source": [
    "Kullanıcıdan pi değeri ve yarıçap bilgisi alarak dairenin alanını hesaplayan bir fonksiyon oluşturulur."
   ]
  },
  {
   "cell_type": "code",
   "execution_count": 2,
   "id": "be80696f-ca98-4e87-a8df-878ec81dffa0",
   "metadata": {},
   "outputs": [
    {
     "name": "stdin",
     "output_type": "stream",
     "text": [
      "pi degeri giriniz: 3.14\n"
     ]
    },
    {
     "name": "stdout",
     "output_type": "stream",
     "text": [
      "pi degeri:  3.14\n"
     ]
    },
    {
     "name": "stdin",
     "output_type": "stream",
     "text": [
      "yaricap degeri giriniz: 8\n"
     ]
    },
    {
     "name": "stdout",
     "output_type": "stream",
     "text": [
      "yaricap degeri:  8.0\n",
      "dairenin alani:  200.96\n"
     ]
    }
   ],
   "source": [
    "pi = float(input(\"pi degeri giriniz:\"))\n",
    "print(\"pi degeri: \", pi)\n",
    "\n",
    "yaricap = float(input(\"yaricap degeri giriniz:\"))\n",
    "print(\"yaricap degeri: \", yaricap)\n",
    "\n",
    "def hesapla():\n",
    "    alan = pi * yaricap * yaricap\n",
    "    print(\"dairenin alani: \", alan)\n",
    "    \n",
    "hesapla()"
   ]
  },
  {
   "cell_type": "code",
   "execution_count": null,
   "id": "88075408-c5b7-426b-8895-deb106732ad2",
   "metadata": {},
   "outputs": [],
   "source": []
  },
  {
   "cell_type": "code",
   "execution_count": null,
   "id": "436ee4d2-abd3-4310-9914-911d668ee89f",
   "metadata": {},
   "outputs": [],
   "source": []
  },
  {
   "cell_type": "markdown",
   "id": "322fcdee-3d7b-4e80-83ff-96041b20a228",
   "metadata": {},
   "source": [
    "Faktöriyel adında fonksiyon oluşturulur. Döngü kullanarak parametre olarak girilen sayının faktöriyeli hesaplanır. Format metodunu kullanılarak ekrana yazdırılır."
   ]
  },
  {
   "cell_type": "code",
   "execution_count": 3,
   "id": "e4b0e43a-0a78-40cd-9411-93fa28ab98d0",
   "metadata": {},
   "outputs": [
    {
     "name": "stdin",
     "output_type": "stream",
     "text": [
      "bir sayi giriniz 5\n"
     ]
    },
    {
     "name": "stdout",
     "output_type": "stream",
     "text": [
      "5 sayisinin faktoriyeli: 120\n"
     ]
    }
   ],
   "source": [
    "sayi = int(input(\"bir sayi giriniz\"))\n",
    "\n",
    "def faktoriyel():\n",
    "    sonuc = 1\n",
    "    \n",
    "    for i in range(1, sayi+1):\n",
    "        sonuc *= i\n",
    "    return sonuc\n",
    "    \n",
    "sonuc = faktoriyel()\n",
    "\n",
    "print(\"{} sayisinin faktoriyeli: {}\".format(sayi, sonuc))"
   ]
  },
  {
   "cell_type": "code",
   "execution_count": null,
   "id": "40ca2a88-5306-47e4-98d7-da7256948421",
   "metadata": {},
   "outputs": [],
   "source": []
  },
  {
   "cell_type": "code",
   "execution_count": null,
   "id": "3a59030e-5d4d-40cf-8129-f8a69d5c4efd",
   "metadata": {},
   "outputs": [],
   "source": []
  },
  {
   "cell_type": "code",
   "execution_count": null,
   "id": "a6f72c6c-852e-42b7-bae3-6d54715c6947",
   "metadata": {},
   "outputs": [],
   "source": [
    "Kişinin fonksiyona doğum yılını vererek kaç yaşında olduğunu hesaplayan bir fonksiyon oluşturun."
   ]
  },
  {
   "cell_type": "code",
   "execution_count": 5,
   "id": "49756b17-837c-40c6-84b5-5bc60d725079",
   "metadata": {},
   "outputs": [
    {
     "name": "stdin",
     "output_type": "stream",
     "text": [
      "Dogum yilinizi giriniz:  2\n"
     ]
    },
    {
     "name": "stdout",
     "output_type": "stream",
     "text": [
      "1900'dan buyuk ve mevcut yildan kucuk bir sayi giriniz.\n"
     ]
    },
    {
     "name": "stdin",
     "output_type": "stream",
     "text": [
      "Dogum yilinizi tekrar giriniz:  ikibinyirmi\n"
     ]
    },
    {
     "name": "stdout",
     "output_type": "stream",
     "text": [
      "Lutfen gecerli bir tam sayi giriniz.\n"
     ]
    },
    {
     "name": "stdin",
     "output_type": "stream",
     "text": [
      "Dogum yilinizi tekrar giriniz:  1996\n"
     ]
    },
    {
     "name": "stdout",
     "output_type": "stream",
     "text": [
      "Yasiniz: 28\n"
     ]
    }
   ],
   "source": [
    "from datetime import datetime\n",
    "\n",
    "def validasyon(dogum_yili):\n",
    "    while True:\n",
    "        try:\n",
    "            dogum_yili = int(dogum_yili)\n",
    "            if dogum_yili > 1900 and dogum_yili <= datetime.now().year:\n",
    "                return dogum_yili\n",
    "            else:\n",
    "                print(\"1900'dan buyuk ve mevcut yildan kucuk bir sayi giriniz.\")\n",
    "        except ValueError:\n",
    "            print(\"Lutfen gecerli bir tam sayi giriniz.\")\n",
    "        dogum_yili = input(\"Dogum yilinizi tekrar giriniz: \")\n",
    "\n",
    "def yas_hesap(dogum_yili):\n",
    "    mevcut_yil = datetime.now().year\n",
    "    yas = mevcut_yil - dogum_yili\n",
    "    return yas\n",
    "\n",
    "dogum_yili = input(\"Dogum yilinizi giriniz: \")\n",
    "dogum_yili = validasyon(dogum_yili)\n",
    "yas = yas_hesap(dogum_yili)\n",
    "\n",
    "print(f\"Yasiniz: {yas}\")"
   ]
  },
  {
   "cell_type": "code",
   "execution_count": null,
   "id": "2aa278a9-dd26-4aa8-b785-0d2ac903d135",
   "metadata": {},
   "outputs": [],
   "source": []
  },
  {
   "cell_type": "code",
   "execution_count": null,
   "id": "6fb4b068-7b8e-4a01-933e-57d8fb2356e3",
   "metadata": {},
   "outputs": [],
   "source": []
  },
  {
   "cell_type": "markdown",
   "id": "616ca6c9-7f42-4b58-a9ac-9ede0386272f",
   "metadata": {},
   "source": [
    "Doğum yılı ve isim bilgisi verilen fonksiyon kişinin emekli olup olmadığını söylesin.(Kişi 65 yaşında ise emekli olur.) Burada yaş hesabını yukarıdaki örnekteki fonksiyonu kullanarak yapsın.(Yani fonksiyon içinde fonksiyon kullanmanızı istiyorum :)) Kişi 65 yaşında ya da daha fazlaysa \"Emekli oldunuz\" yanıtını, 65 yaşından küçükse emekliliğine kaç yıl kaldığını da hesaplayarak \"(isim) emekliliğine (yıl) kaldı.\" yanıtını versin."
   ]
  },
  {
   "cell_type": "code",
   "execution_count": 7,
   "id": "10ab6687-0f50-48ef-b8e8-3bfce8a69ede",
   "metadata": {},
   "outputs": [
    {
     "name": "stdin",
     "output_type": "stream",
     "text": [
      "isminizi giriniz:  rabia\n"
     ]
    },
    {
     "name": "stdout",
     "output_type": "stream",
     "text": [
      "isminiz:  rabia\n"
     ]
    },
    {
     "name": "stdin",
     "output_type": "stream",
     "text": [
      "Dogum yilinizi giriniz:  1200\n"
     ]
    },
    {
     "name": "stdout",
     "output_type": "stream",
     "text": [
      "1900'dan buyuk ve mevcut yildan kucuk bir sayi giriniz.\n"
     ]
    },
    {
     "name": "stdin",
     "output_type": "stream",
     "text": [
      "Dogum yilinizi tekrar giriniz:  iki bin on\n"
     ]
    },
    {
     "name": "stdout",
     "output_type": "stream",
     "text": [
      "Lutfen gecerli bir tam sayi giriniz.\n"
     ]
    },
    {
     "name": "stdin",
     "output_type": "stream",
     "text": [
      "Dogum yilinizi tekrar giriniz:  1996\n"
     ]
    },
    {
     "name": "stdout",
     "output_type": "stream",
     "text": [
      "rabia emekliligine 37 yil kaldi\n"
     ]
    }
   ],
   "source": [
    "from datetime import datetime\n",
    "isim = input(\"isminizi giriniz: \")\n",
    "print(\"isminiz: \", isim)\n",
    "\n",
    "def validasyon(dogum_yili):\n",
    "    while True:\n",
    "        try:\n",
    "            dogum_yili = int(dogum_yili)\n",
    "            if dogum_yili > 1900 and dogum_yili <= datetime.now().year:\n",
    "                return dogum_yili\n",
    "            else:\n",
    "                print(\"1900'dan buyuk ve mevcut yildan kucuk bir sayi giriniz.\")\n",
    "        except ValueError:\n",
    "            print(\"Lutfen gecerli bir tam sayi giriniz.\")\n",
    "        dogum_yili = input(\"Dogum yilinizi tekrar giriniz: \")\n",
    "\n",
    "def yas_hesap(dogum_yili, isim):\n",
    "    mevcut_yil = datetime.now().year\n",
    "    yas = mevcut_yil - dogum_yili\n",
    "    if (yas >= 65):\n",
    "          print(\"emekli oldunuz\")\n",
    "    else :\n",
    "          yil = 65 - yas\n",
    "          print(f\"{isim} emekliligine {yil} yil kaldi\")\n",
    "    \n",
    "dogum_yili = input(\"Dogum yilinizi giriniz: \")\n",
    "dogum_yili = validasyon(dogum_yili)\n",
    "yas_hesap(dogum_yili, isim)"
   ]
  },
  {
   "cell_type": "code",
   "execution_count": null,
   "id": "767c19bc-fa8b-4810-a5ce-197b4ff4bc35",
   "metadata": {},
   "outputs": [],
   "source": []
  },
  {
   "cell_type": "code",
   "execution_count": null,
   "id": "caf2c942-89d1-4c6a-a2cf-c9d764a5433d",
   "metadata": {},
   "outputs": [],
   "source": []
  }
 ],
 "metadata": {
  "kernelspec": {
   "display_name": "Python 3 (ipykernel)",
   "language": "python",
   "name": "python3"
  },
  "language_info": {
   "codemirror_mode": {
    "name": "ipython",
    "version": 3
   },
   "file_extension": ".py",
   "mimetype": "text/x-python",
   "name": "python",
   "nbconvert_exporter": "python",
   "pygments_lexer": "ipython3",
   "version": "3.11.7"
  }
 },
 "nbformat": 4,
 "nbformat_minor": 5
}
