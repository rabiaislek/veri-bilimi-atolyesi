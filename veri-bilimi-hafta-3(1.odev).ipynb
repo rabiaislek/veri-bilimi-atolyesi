{
 "cells": [
  {
   "cell_type": "markdown",
   "id": "e127f7aa-f318-45fb-b6c3-e44a39c3acbd",
   "metadata": {},
   "source": [
    "Aşağıdaki işlemleri indexing ve slicing kullanarak liste üzerinde uygulayın.\n",
    "liste = [\"Python\",True,9,\"3\",8.4,\"Hi-Kod\",\"False\",4.7]\n",
    "\"3\" değerine ulaşmak için indexleme yapın.\n",
    "\"Hi-Kod\" değerine ulaşmak için indexleme yapın.\n",
    "4.7 değerine ulaşmak için indexleme yapın.\n",
    "9,\"3\",8.4,\"Hi-Kod\" değerlerine ulaşmak için slicing yapın.\n",
    "8.4,\"Hi-Kod\",\"False\",4.7 değerlerine ulaşmak için slicing yapın."
   ]
  },
  {
   "cell_type": "code",
   "execution_count": 14,
   "id": "19bcea8e-538e-4520-90c1-ac08f30e638c",
   "metadata": {},
   "outputs": [
    {
     "name": "stdout",
     "output_type": "stream",
     "text": [
      "3 Hi-Kod 4.7\n",
      "[9, '3', 8.4, 'Hi-Kod']\n",
      "[8.4, 'Hi-Kod', 'False', 4.7]\n"
     ]
    }
   ],
   "source": [
    "liste = [\"Python\",True,9,\"3\",8.4,\"Hi-Kod\",\"False\",4.7]\n",
    "deger = liste[3]\n",
    "deger2 = liste[5]\n",
    "deger3 = liste[7]\n",
    "aralik = liste[2:6]\n",
    "aralik2 = liste[4:8]\n",
    "\n",
    "print(deger, deger2, deger3)\n",
    "print(aralik)\n",
    "print(aralik2)"
   ]
  },
  {
   "cell_type": "code",
   "execution_count": null,
   "id": "b402a77c-c80d-4aca-a719-46399aea16d2",
   "metadata": {},
   "outputs": [],
   "source": []
  },
  {
   "cell_type": "code",
   "execution_count": null,
   "id": "95e94071-7d8e-4370-84bc-de40151f7811",
   "metadata": {},
   "outputs": [],
   "source": []
  },
  {
   "cell_type": "markdown",
   "id": "3212f0e2-a50f-49d2-9b47-f52a608530e4",
   "metadata": {},
   "source": [
    "Verilen listede bulunan string veri tipindeki öğeleri yeni_liste isimli listeye eklenir.\n",
    "liste = [\"Python\",True,9,\"3\",8.4,\"Hi-Kod\",\"False\",4.7]"
   ]
  },
  {
   "cell_type": "code",
   "execution_count": 8,
   "id": "df0b0a4b-dd8b-4c5a-ab70-5c54de43ae6f",
   "metadata": {},
   "outputs": [
    {
     "name": "stdout",
     "output_type": "stream",
     "text": [
      "['Python', '3', 'Hi-Kod', 'False']\n"
     ]
    }
   ],
   "source": [
    "yeni_liste = []\n",
    "\n",
    "for eleman in liste:\n",
    "    if isinstance(eleman, str):\n",
    "        yeni_liste.append(eleman)\n",
    "\n",
    "print(yeni_liste)"
   ]
  },
  {
   "cell_type": "code",
   "execution_count": null,
   "id": "9576285e-28f3-466d-8e44-93ac8fdd03dd",
   "metadata": {},
   "outputs": [],
   "source": []
  },
  {
   "cell_type": "code",
   "execution_count": null,
   "id": "fad290ec-00a7-458e-a5bb-fc767c1fd5fa",
   "metadata": {},
   "outputs": [],
   "source": []
  },
  {
   "cell_type": "markdown",
   "id": "94c78cd4-420d-4a13-814d-2b831ad891d6",
   "metadata": {},
   "source": [
    "numerate methodunu araştırın ve aşağıdaki örneği enumerate methodu ile yapın.\n",
    "\n",
    "for index in range(len(meyveler)):\n",
    "    print(\"{}. indexte bulunan meyve: {}\".format(index,meyveler[index])"
   ]
  },
  {
   "cell_type": "code",
   "execution_count": 12,
   "id": "bb5d008c-5f24-409d-a604-bd076c23812f",
   "metadata": {},
   "outputs": [
    {
     "name": "stdout",
     "output_type": "stream",
     "text": [
      "0. indexte bulunan meyve: elma\n",
      "1. indexte bulunan meyve: armut\n",
      "2. indexte bulunan meyve: karpuz\n",
      "3. indexte bulunan meyve: çilek\n",
      "4. indexte bulunan meyve: muz\n",
      "5. indexte bulunan meyve: kiraz\n"
     ]
    }
   ],
   "source": [
    "meyveler = [\"elma\", \"armut\", \"karpuz\", \"çilek\", \"muz\", \"kiraz\"]\n",
    "\n",
    "for index, meyve in enumerate(meyveler):\n",
    "    print(\"{}. indexte bulunan meyve: {}\".format(index,meyve))"
   ]
  },
  {
   "cell_type": "code",
   "execution_count": null,
   "id": "80b82367-93d9-4c49-9171-3b7f5fdf306d",
   "metadata": {},
   "outputs": [],
   "source": []
  },
  {
   "cell_type": "code",
   "execution_count": null,
   "id": "ee315375-73bf-4f17-8660-8865c9b8bbb4",
   "metadata": {},
   "outputs": [],
   "source": []
  }
 ],
 "metadata": {
  "kernelspec": {
   "display_name": "Python 3 (ipykernel)",
   "language": "python",
   "name": "python3"
  },
  "language_info": {
   "codemirror_mode": {
    "name": "ipython",
    "version": 3
   },
   "file_extension": ".py",
   "mimetype": "text/x-python",
   "name": "python",
   "nbconvert_exporter": "python",
   "pygments_lexer": "ipython3",
   "version": "3.11.7"
  }
 },
 "nbformat": 4,
 "nbformat_minor": 5
}
