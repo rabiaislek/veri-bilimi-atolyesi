{
 "cells": [
  {
   "cell_type": "markdown",
   "id": "7253ba8b-38c5-4558-9a55-71332c78e396",
   "metadata": {},
   "source": [
    "Bir sözlük oluşturulur ve bu sözlükte öğrencilerin isimleri ve Matematik, Fizik, Kimya notları tutulur. Kullanıcıdan isim ve ders ismi(Matematik, Fizik, Kimya) istenir ve bu bilgilere göre çıktı verilir."
   ]
  },
  {
   "cell_type": "code",
   "execution_count": 5,
   "id": "bb780e82-4aa9-43e3-ae29-019372f7e445",
   "metadata": {},
   "outputs": [
    {
     "name": "stdout",
     "output_type": "stream",
     "text": [
      "{'Matematik': 92, 'Fizik': 65, 'Kimya': 94}\n"
     ]
    }
   ],
   "source": [
    "ogrenci_notlari = {\n",
    "    'Mert': {'Matematik': 85, 'Fizik': 55, 'Kimya': 68},\n",
    "    'Ceren': {'Matematik': 92, 'Fizik': 65, 'Kimya': 94},\n",
    "    'Toprak': {'Matematik': 50, 'Fizik': 35, 'Kimya': 65},\n",
    "    'Yagmur': {'Matematik': 89, 'Fizik': 92, 'Kimya': 90}\n",
    "}\n",
    "print(ogrenci_notlari[\"Ceren\"])"
   ]
  },
  {
   "cell_type": "code",
   "execution_count": 28,
   "id": "a3f3a5f1-c1b6-4b41-8257-ab37fce7a1c4",
   "metadata": {},
   "outputs": [
    {
     "name": "stdin",
     "output_type": "stream",
     "text": [
      "Öğrenci ismi girin:  eliz\n"
     ]
    },
    {
     "name": "stdout",
     "output_type": "stream",
     "text": [
      "eliz isimli öğrenci bulunamadı. Lütfen tekrar deneyin.\n"
     ]
    },
    {
     "name": "stdin",
     "output_type": "stream",
     "text": [
      "Öğrenci ismi girin:  Yagmur\n",
      "Ders ismi girin (Matematik, Fizik, Kimya):  Fizik\n"
     ]
    },
    {
     "name": "stdout",
     "output_type": "stream",
     "text": [
      "Yagmur isimli öğrencinin Fizik notu: 92\n"
     ]
    }
   ],
   "source": [
    "\n",
    "while True:\n",
    "    ogrenci_ismi = input(\"Öğrenci ismi girin: \")\n",
    "    if ogrenci_ismi in ogrenci_notlari:\n",
    "        break\n",
    "    else:\n",
    "        print(f\"{ogrenci_ismi} isimli öğrenci bulunamadı. Lütfen tekrar deneyin.\")\n",
    "    \n",
    "ders_ismi = input(\"Ders ismi girin (Matematik, Fizik, Kimya): \")\n",
    "\n",
    "if ders_ismi in ogrenci_notlari[ogrenci_ismi]:\n",
    "    notu = ogrenci_notlari[ogrenci_ismi][ders_ismi]\n",
    "    print(f\"{ogrenci_ismi} isimli öğrencinin {ders_ismi} notu: {notu}\")\n",
    "else:\n",
    "    print(f\"{ders_ismi} dersi bulunamadı.\")\n",
    "              "
   ]
  },
  {
   "cell_type": "code",
   "execution_count": null,
   "id": "84086637-159b-4fc8-9bde-a158a0321aea",
   "metadata": {},
   "outputs": [],
   "source": []
  },
  {
   "cell_type": "code",
   "execution_count": null,
   "id": "4da06d90-87aa-472a-9a46-3c23dab9ea24",
   "metadata": {},
   "outputs": [],
   "source": []
  },
  {
   "cell_type": "markdown",
   "id": "cb5dd2bb-0a1c-4b8e-802a-e45e04f70381",
   "metadata": {},
   "source": [
    "Sözlük üzerinde değerleri değiştirme, yeni değer ekleme, kullanıcıya ulaşmak istediği bilgileri sorma gibi uygulamalar yapın."
   ]
  },
  {
   "cell_type": "code",
   "execution_count": 29,
   "id": "6eb53b3a-4bd9-461b-b791-34d0beeb28f3",
   "metadata": {},
   "outputs": [
    {
     "name": "stdout",
     "output_type": "stream",
     "text": [
      "{'Matematik': 85, 'Fizik': 65, 'Kimya': 94}\n"
     ]
    }
   ],
   "source": [
    "ogrenci_notlari[\"Ceren\"][\"Matematik\"] = 85\n",
    "print(ogrenci_notlari[\"Ceren\"])"
   ]
  },
  {
   "cell_type": "code",
   "execution_count": 31,
   "id": "a27b5199-ad26-42b6-b7ed-7bef2d80e5cb",
   "metadata": {},
   "outputs": [
    {
     "name": "stdout",
     "output_type": "stream",
     "text": [
      "{'Mert': {'Matematik': 85, 'Fizik': 55, 'Kimya': 68}, 'Ceren': {'Matematik': 85, 'Fizik': 65, 'Kimya': 94}, 'Toprak': {'Matematik': 50, 'Fizik': 35, 'Kimya': 65}, 'Yagmur': {'Matematik': 89, 'Fizik': 92, 'Kimya': 90}, 'Sare': {'Matematik': 90, 'Fizik': 75, 'Kimya': 88}}\n"
     ]
    }
   ],
   "source": [
    "ogrenci_notlari[\"Sare\"] = {'Matematik': 90, 'Fizik': 75, 'Kimya': 88}\n",
    "print(ogrenci_notlari)"
   ]
  },
  {
   "cell_type": "code",
   "execution_count": 34,
   "id": "dc70209e-9c04-42ec-a028-b4e68647456d",
   "metadata": {},
   "outputs": [
    {
     "name": "stdin",
     "output_type": "stream",
     "text": [
      "Notlarini goruntulemek istediginiz ogrencinin ismini giriniz:  Ceren\n"
     ]
    },
    {
     "name": "stdout",
     "output_type": "stream",
     "text": [
      "{'Matematik': 85, 'Fizik': 65, 'Kimya': 94}\n"
     ]
    }
   ],
   "source": [
    "ogrenci_ismi = input(\"Notlarini goruntulemek istediginiz ogrencinin ismini giriniz: \")\n",
    "print(ogrenci_notlari[ogrenci_ismi])"
   ]
  },
  {
   "cell_type": "code",
   "execution_count": null,
   "id": "cd2af88f-92c8-4798-994d-0faf012165df",
   "metadata": {},
   "outputs": [],
   "source": []
  }
 ],
 "metadata": {
  "kernelspec": {
   "display_name": "Python 3 (ipykernel)",
   "language": "python",
   "name": "python3"
  },
  "language_info": {
   "codemirror_mode": {
    "name": "ipython",
    "version": 3
   },
   "file_extension": ".py",
   "mimetype": "text/x-python",
   "name": "python",
   "nbconvert_exporter": "python",
   "pygments_lexer": "ipython3",
   "version": "3.11.7"
  }
 },
 "nbformat": 4,
 "nbformat_minor": 5
}
