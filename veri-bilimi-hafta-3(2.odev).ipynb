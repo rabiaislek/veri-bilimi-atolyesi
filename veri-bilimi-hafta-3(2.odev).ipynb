{
 "cells": [
  {
   "cell_type": "markdown",
   "id": "7253ba8b-38c5-4558-9a55-71332c78e396",
   "metadata": {},
   "source": [
    "Bir sözlük oluşturulur ve bu sözlükte öğrencilerin isimleri ve Matematik, Fizik, Kimya notları tutulur. Kullanıcıdan isim ve ders ismi(Matematik, Fizik, Kimya) istenir ve bu bilgilere göre çıktı verilir."
   ]
  },
  {
   "cell_type": "code",
   "execution_count": 36,
   "id": "bb780e82-4aa9-43e3-ae29-019372f7e445",
   "metadata": {},
   "outputs": [
    {
     "name": "stdout",
     "output_type": "stream",
     "text": [
      "{'Matematik': 92, 'Fizik': 65, 'Kimya': 94}\n"
     ]
    }
   ],
   "source": [
    "ogrenci_notlari = {\n",
    "    'Mert': {'Matematik': 85, 'Fizik': 55, 'Kimya': 68},\n",
    "    'Ceren': {'Matematik': 92, 'Fizik': 65, 'Kimya': 94},\n",
    "    'Toprak': {'Matematik': 50, 'Fizik': 35, 'Kimya': 65},\n",
    "    'Yagmur': {'Matematik': 89, 'Fizik': 92, 'Kimya': 90}\n",
    "}\n",
    "print(ogrenci_notlari[\"Ceren\"])"
   ]
  },
  {
   "cell_type": "code",
   "execution_count": 28,
   "id": "a3f3a5f1-c1b6-4b41-8257-ab37fce7a1c4",
   "metadata": {},
   "outputs": [
    {
     "name": "stdin",
     "output_type": "stream",
     "text": [
      "Öğrenci ismi girin:  eliz\n"
     ]
    },
    {
     "name": "stdout",
     "output_type": "stream",
     "text": [
      "eliz isimli öğrenci bulunamadı. Lütfen tekrar deneyin.\n"
     ]
    },
    {
     "name": "stdin",
     "output_type": "stream",
     "text": [
      "Öğrenci ismi girin:  Yagmur\n",
      "Ders ismi girin (Matematik, Fizik, Kimya):  Fizik\n"
     ]
    },
    {
     "name": "stdout",
     "output_type": "stream",
     "text": [
      "Yagmur isimli öğrencinin Fizik notu: 92\n"
     ]
    }
   ],
   "source": [
    "\n",
    "while True:\n",
    "    ogrenci_ismi = input(\"Öğrenci ismi girin: \")\n",
    "    if ogrenci_ismi in ogrenci_notlari:\n",
    "        break\n",
    "    else:\n",
    "        print(f\"{ogrenci_ismi} isimli öğrenci bulunamadı. Lütfen tekrar deneyin.\")\n",
    "    \n",
    "ders_ismi = input(\"Ders ismi girin (Matematik, Fizik, Kimya): \")\n",
    "\n",
    "if ders_ismi in ogrenci_notlari[ogrenci_ismi]:\n",
    "    notu = ogrenci_notlari[ogrenci_ismi][ders_ismi]\n",
    "    print(f\"{ogrenci_ismi} isimli öğrencinin {ders_ismi} notu: {notu}\")\n",
    "else:\n",
    "    print(f\"{ders_ismi} dersi bulunamadı.\")\n",
    "              "
   ]
  },
  {
   "cell_type": "code",
   "execution_count": null,
   "id": "84086637-159b-4fc8-9bde-a158a0321aea",
   "metadata": {},
   "outputs": [],
   "source": []
  },
  {
   "cell_type": "code",
   "execution_count": null,
   "id": "4da06d90-87aa-472a-9a46-3c23dab9ea24",
   "metadata": {},
   "outputs": [],
   "source": []
  },
  {
   "cell_type": "markdown",
   "id": "cb5dd2bb-0a1c-4b8e-802a-e45e04f70381",
   "metadata": {},
   "source": [
    "Sözlük üzerinde değerleri değiştirme, yeni değer ekleme, kullanıcıya ulaşmak istediği bilgileri sorma gibi uygulamalar yapın."
   ]
  },
  {
   "cell_type": "code",
   "execution_count": 51,
   "id": "0121ddd0-cf1b-4918-981b-862ee3c220e9",
   "metadata": {},
   "outputs": [
    {
     "name": "stdout",
     "output_type": "stream",
     "text": [
      "{'Ahmet': {'Matematik': 85, 'Fizik': 55, 'Kimya': 68}, 'Ekin': {'Matematik': 92, 'Fizik': 65, 'Kimya': 94}, 'Alp': {'Matematik': 50, 'Fizik': 35, 'Kimya': 65}, 'Cansu': {'Matematik': 89, 'Fizik': 92, 'Kimya': 90}}\n"
     ]
    }
   ],
   "source": [
    "ogrenci_notlari = {\n",
    "    'Ahmet': {'Matematik': 85, 'Fizik': 55, 'Kimya': 68},\n",
    "    'Ekin': {'Matematik': 92, 'Fizik': 65, 'Kimya': 94},\n",
    "    'Alp': {'Matematik': 50, 'Fizik': 35, 'Kimya': 65},\n",
    "    'Cansu': {'Matematik': 89, 'Fizik': 92, 'Kimya': 90}\n",
    "}\n",
    "print(ogrenci_notlari)"
   ]
  },
  {
   "cell_type": "code",
   "execution_count": 52,
   "id": "33987cca-3310-4a81-a1a4-b7c0ffae3f0e",
   "metadata": {},
   "outputs": [
    {
     "name": "stdout",
     "output_type": "stream",
     "text": [
      "\n",
      "Sistem\n",
      "1. Notları Görüntüle\n",
      "2. Not Güncelle\n",
      "3. Yeni Öğrenci Ekle\n",
      "4. Yeni Not Ekle\n",
      "5. Çıkış\n"
     ]
    },
    {
     "name": "stdin",
     "output_type": "stream",
     "text": [
      "Seçiminizi yapın (1-5):  6\n"
     ]
    },
    {
     "name": "stdout",
     "output_type": "stream",
     "text": [
      "Gecersiz secim! Lutfen tekrar deneyin\n",
      "\n",
      "Sistem\n",
      "1. Notları Görüntüle\n",
      "2. Not Güncelle\n",
      "3. Yeni Öğrenci Ekle\n",
      "4. Yeni Not Ekle\n",
      "5. Çıkış\n"
     ]
    },
    {
     "name": "stdin",
     "output_type": "stream",
     "text": [
      "Seçiminizi yapın (1-5):  3\n",
      "Yeni ogrencinin ismini giriniz: Ceren\n"
     ]
    },
    {
     "name": "stdout",
     "output_type": "stream",
     "text": [
      "Ceren isimli ogrenci eklendi.\n"
     ]
    },
    {
     "name": "stdin",
     "output_type": "stream",
     "text": [
      "Ceren isimli ogrencinin Matematik notunu giriniz 65\n",
      "Ceren isimli ogrencinin Fizik notunu giriniz 89\n",
      "Ceren isimli ogrencinin Kimya notunu giriniz 45\n"
     ]
    },
    {
     "name": "stdout",
     "output_type": "stream",
     "text": [
      "\n",
      "Sistem\n",
      "1. Notları Görüntüle\n",
      "2. Not Güncelle\n",
      "3. Yeni Öğrenci Ekle\n",
      "4. Yeni Not Ekle\n",
      "5. Çıkış\n"
     ]
    },
    {
     "name": "stdin",
     "output_type": "stream",
     "text": [
      "Seçiminizi yapın (1-5):  5\n"
     ]
    },
    {
     "name": "stdout",
     "output_type": "stream",
     "text": [
      "Cikis yapiliyor...\n"
     ]
    }
   ],
   "source": [
    "def not_goruntuleme():\n",
    "    ogrenci_ismi = input(\"Notlarini goruntulemek istediginiz ogrencinin ismini girin: \")\n",
    "    if ogrenci_ismi in ogrenci_notlari:\n",
    "        print(f\"{ogrenci_ismi} isimli ogrencinin notlari: {ogrenci_notlari[ogrenci_ismi]}\")\n",
    "    else:\n",
    "        print(f\"{ogrenci_ismi} isimli öğrenci bulunamadı.\")\n",
    "\n",
    "def not_guncelleme():\n",
    "    ogrenci_ismi = input(\"Notlarini guncellemek istediginiz ogrencinin ismini girin: \")\n",
    "    if ogrenci_ismi in ogrenci_notlari:\n",
    "        ders_ismi = input(\"Ders ismi girin (Matematik, Fizik, Kimya): \")\n",
    "        if ders_ismi in ogrenci_notlari[ogrenci_ismi]:\n",
    "            yeni_not = int(input(f\"{ogrenci_ismi} isimli ogrencinin {ders_ismi} notunu girin\"))\n",
    "            ogrenci_notlari[ogrenci_ismi][ders_ismi] = yeni_not\n",
    "            print(f\"{ogrenci_ismi} isimli ogrencinin {ders_ismi} notu guncellendi\")\n",
    "        else:\n",
    "            print(f\"{ders_ismi} dersi bulunamadi!\")\n",
    "    else:\n",
    "        print(f\"{ogrenci_ismi} isimli ogrenci bulunamadi!\")\n",
    "\n",
    "def ogrenci_ekleme():\n",
    "    yeni_ogrenci = input(\"Yeni ogrencinin ismini giriniz:\")\n",
    "    if ogrenci_ismi in ogrenci_notlari:\n",
    "        print(f\"{ogrenci_ismi} isimli ogrenci zaten mevcut!\")\n",
    "    else:\n",
    "        ogrenci_notlari[yeni_ogrenci] = {}\n",
    "        print(f\"{yeni_ogrenci} isimli ogrenci eklendi.\")\n",
    "        ders_ismi = ['Matematik', 'Fizik', 'Kimya']\n",
    "        for ders in ders_ismi:\n",
    "            notu = int(input(f\"{yeni_ogrenci} isimli ogrencinin {ders} notunu giriniz\"))\n",
    "            ogrenci_notlari[yeni_ogrenci][ders] = notu\n",
    "\n",
    "def not_ekleme():\n",
    "    ogrenci_ismi = input(\"Not eklemek istediginiz ogrencinin ismini girin: \")\n",
    "    if ogrenci_ismi in ogrenci_notlari:\n",
    "         ders_ismi = input(\"Ders ismi girin: \")\n",
    "         if ders_ismi in ogrenci_notlari[ogrenci_ismi]:\n",
    "             print(f\"{ogrenci_ismi} isimli ogrencinin {ders_ismi} dersi zaten mevcut!\")\n",
    "         else:\n",
    "             yeni_not = int(input(f\"{ogrenci_ismi} isimli ogrencinin {ders_ismi} notunu girin\"))\n",
    "             ogrenci_notlari[ogrenci_ismi][ders_ismi] = yeni_not\n",
    "             print(f\"{ogrenci_ismi} isimli ogrencinin {ders_ismi} notu eklendi\")\n",
    "    else:\n",
    "         print(f\"{ogrenci_ismi} isimli ogrenci bulunamadi!\")\n",
    "\n",
    "\n",
    "while True:\n",
    "    print(\"\\nSistem\")\n",
    "    print(\"1. Notları Görüntüle\")\n",
    "    print(\"2. Not Güncelle\")\n",
    "    print(\"3. Yeni Öğrenci Ekle\")\n",
    "    print(\"4. Yeni Not Ekle\")\n",
    "    print(\"5. Çıkış\")\n",
    "    \n",
    "    secim = input(\"Seçiminizi yapın (1-5): \")\n",
    "    \n",
    "    if secim == '1':\n",
    "        not_goruntuleme()\n",
    "    elif secim == '2':\n",
    "        not_guncelleme()\n",
    "    elif secim == '3':\n",
    "        ogrenci_ekleme()\n",
    "    elif secim == '4':\n",
    "        not_ekleme()\n",
    "    elif secim == '5':\n",
    "        print(\"Cikis yapiliyor...\")\n",
    "        break\n",
    "    else:\n",
    "        print(\"Gecersiz secim! Lutfen tekrar deneyin\")\n",
    " "
   ]
  },
  {
   "cell_type": "code",
   "execution_count": null,
   "id": "1d8aed50-cc52-4f37-8fb6-af68c13f19dd",
   "metadata": {},
   "outputs": [],
   "source": []
  }
 ],
 "metadata": {
  "kernelspec": {
   "display_name": "Python 3 (ipykernel)",
   "language": "python",
   "name": "python3"
  },
  "language_info": {
   "codemirror_mode": {
    "name": "ipython",
    "version": 3
   },
   "file_extension": ".py",
   "mimetype": "text/x-python",
   "name": "python",
   "nbconvert_exporter": "python",
   "pygments_lexer": "ipython3",
   "version": "3.11.7"
  }
 },
 "nbformat": 4,
 "nbformat_minor": 5
}
