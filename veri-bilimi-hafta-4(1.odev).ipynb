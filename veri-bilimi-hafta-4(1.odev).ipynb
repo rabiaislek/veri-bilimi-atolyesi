{
 "cells": [
  {
   "cell_type": "markdown",
   "id": "f174de73-99d7-4cbe-8ddb-b3fcbf91f254",
   "metadata": {},
   "source": [
    " Sayılardan oluşan bir boyutlu array oluşturulur. Arrayi oluştururken sayıların veri tipini integer olarak belirtilir. Oluşturulan arrayin boyut, eleman sayısı bilgilerine bakılır. "
   ]
  },
  {
   "cell_type": "code",
   "execution_count": 2,
   "id": "48f5fa2a-73eb-4f5f-ade6-9b633bdcb0b2",
   "metadata": {},
   "outputs": [],
   "source": [
    "import numpy as np"
   ]
  },
  {
   "cell_type": "code",
   "execution_count": 3,
   "id": "5b682b5d-2160-41a1-996f-f24b831a9fc1",
   "metadata": {},
   "outputs": [
    {
     "name": "stdout",
     "output_type": "stream",
     "text": [
      "[1 2 3 4 5 6]\n"
     ]
    }
   ],
   "source": [
    "array = np.array([1,2,3,4,5,6], dtype=int)\n",
    "print(array)"
   ]
  },
  {
   "cell_type": "code",
   "execution_count": 4,
   "id": "e7925c4d-cffc-4367-ac7f-19a15beab43f",
   "metadata": {},
   "outputs": [
    {
     "name": "stdout",
     "output_type": "stream",
     "text": [
      "array boyutu 1\n",
      "array eleman sayisi 6\n"
     ]
    }
   ],
   "source": [
    "boyut = array.ndim\n",
    "print(\"array boyutu\",boyut)\n",
    "\n",
    "eleman_sayisi = array.size\n",
    "print(\"array eleman sayisi\",eleman_sayisi)"
   ]
  },
  {
   "cell_type": "code",
   "execution_count": null,
   "id": "abb679b6-c535-4dd0-b5d9-b965dc08833b",
   "metadata": {},
   "outputs": [],
   "source": []
  },
  {
   "cell_type": "code",
   "execution_count": null,
   "id": "ed6e382d-ae5d-4cf3-909d-061ce753bb38",
   "metadata": {},
   "outputs": [],
   "source": []
  },
  {
   "cell_type": "markdown",
   "id": "638d44bf-ce90-442c-aed3-a70bcdcb6554",
   "metadata": {},
   "source": [
    " İki ve üç boyutlu arrayler oluşturulur. Bu arraylerin boyut, eleman sayısı, satır, sütun bilgilerine ulaşılır. Arrayler üzerinde indexleme ve dilimleme(slicing) işlemi yapılır. "
   ]
  },
  {
   "cell_type": "code",
   "execution_count": 5,
   "id": "e3a2df73-3d0b-4c82-a7f0-2d4264dc1f64",
   "metadata": {},
   "outputs": [
    {
     "name": "stdout",
     "output_type": "stream",
     "text": [
      "array2 boyutu 2\n",
      "array2 eleman sayisi 6\n",
      "satir 2, sutun 3\n"
     ]
    }
   ],
   "source": [
    "# iki boyutlu array\n",
    "array2 = np.array([[1,2,3], [4,5,6]])\n",
    "print(\"array2 boyutu\", array2.ndim)       #boyut\n",
    "print(\"array2 eleman sayisi\",array2.size) #eleman sayisi\n",
    "satir, sutun = array2.shape               #satir ve sutun\n",
    "print(f\"satir {satir}, sutun {sutun}\")"
   ]
  },
  {
   "cell_type": "code",
   "execution_count": 6,
   "id": "9b950307-a265-4331-9fe6-f32ff531d2d1",
   "metadata": {},
   "outputs": [
    {
     "name": "stdout",
     "output_type": "stream",
     "text": [
      "array3 boyutu 3\n",
      "array3 eleman sayisi 12\n",
      "derinlik 2, satir 2, sutun 3\n"
     ]
    }
   ],
   "source": [
    "# uc boyutlu array\n",
    "array3 = np.array([[[1,2,3], [4,5,6]] , [[7,8,9], [10,11,12]]])\n",
    "print(\"array3 boyutu\", array3.ndim)       #boyut\n",
    "print(\"array3 eleman sayisi\",array3.size) #eleman sayisi\n",
    "derinlik, satir, sutun = array3.shape     #derinlik, satir ve sutun\n",
    "print(f\"derinlik {derinlik}, satir {satir}, sutun {sutun}\")"
   ]
  },
  {
   "cell_type": "code",
   "execution_count": 19,
   "id": "1eb1e4fc-6c49-4024-a102-7d3eb8c592b9",
   "metadata": {},
   "outputs": [
    {
     "name": "stdout",
     "output_type": "stream",
     "text": [
      "2\n",
      "6\n"
     ]
    }
   ],
   "source": [
    "###indexleme###\n",
    "#1.satirdaki 2. elemana ulasalim\n",
    "print(array2[0,1])\n",
    "\n",
    "#1.katmandaki 2.satirdaki 3. elemana ulasalim\n",
    "print(array3[0,1,2])"
   ]
  },
  {
   "cell_type": "code",
   "execution_count": 20,
   "id": "a9cca583-756b-4faf-a015-1350f74b5409",
   "metadata": {},
   "outputs": [
    {
     "name": "stdout",
     "output_type": "stream",
     "text": [
      "[4 5]\n",
      "[ 7 10]\n"
     ]
    }
   ],
   "source": [
    "###dilimleme###\n",
    "#array2'de 4 ve 5 sayilarina ulasalim\n",
    "print(array2[1, 0:2])\n",
    "\n",
    "#array3'te 7 ve 10 sayilarina ulasalim\n",
    "print(array3[1,0:2,0])"
   ]
  },
  {
   "cell_type": "code",
   "execution_count": null,
   "id": "cfa1250d-5b9d-4c68-8790-4cfa816797b5",
   "metadata": {},
   "outputs": [],
   "source": []
  },
  {
   "cell_type": "code",
   "execution_count": null,
   "id": "12adfc1d-5718-4a91-9105-066ca06b8c50",
   "metadata": {},
   "outputs": [],
   "source": []
  },
  {
   "cell_type": "markdown",
   "id": "94cafe1a-1763-4946-b02a-333366142d3c",
   "metadata": {},
   "source": [
    " Numpy fonksiyonu kullanarak bir, iki ve üç boyutlu arrayler oluşturulur. Arrayler üzerinde indexleme ve dilimleme(slicing) işlemi yapılır "
   ]
  },
  {
   "cell_type": "code",
   "execution_count": 21,
   "id": "63a0c905-f2ae-4b12-8fe3-40467d7c4fe7",
   "metadata": {},
   "outputs": [
    {
     "name": "stdout",
     "output_type": "stream",
     "text": [
      "[0 1 2 3 4 5 6]\n",
      "[['a' 'b' 'c']\n",
      " ['d' 'e' 'f']]\n",
      "[[['q' '2' '6']\n",
      "  ['5' 'f' '3']]\n",
      "\n",
      " [['4' '8' '5']\n",
      "  ['10' '0' 'b']]]\n"
     ]
    }
   ],
   "source": [
    "# bir boyutlu array\n",
    "arr = np.arange(7)\n",
    "print(arr)\n",
    "# iki boyutlu array\n",
    "arr2 = np.array([[\"a\",\"b\",\"c\"], [\"d\",\"e\",\"f\"]])\n",
    "print(arr2)\n",
    "# uc boyutlu array\n",
    "arr3 = np.array([[[\"q\",2,6], [5,\"f\",3]] , [[4,8,5], [10,0,\"b\"]]])\n",
    "print(arr3)"
   ]
  },
  {
   "cell_type": "code",
   "execution_count": 18,
   "id": "eca0d91c-d286-4eed-9e32-a13c40f7390f",
   "metadata": {},
   "outputs": [
    {
     "name": "stdout",
     "output_type": "stream",
     "text": [
      "5\n",
      "d\n",
      "b\n"
     ]
    }
   ],
   "source": [
    "#arr 5\n",
    "arr[5] \n",
    "print(arr[5])\n",
    "#arr2 d\n",
    "arr2[1,0]\n",
    "print(arr2[1,0])\n",
    "#arr3 b\n",
    "arr3[1,1,2]\n",
    "print(arr3[1,1,2])"
   ]
  },
  {
   "cell_type": "code",
   "execution_count": 17,
   "id": "8a0f7168-3b7f-4434-91a5-603e7506db22",
   "metadata": {},
   "outputs": [
    {
     "name": "stdout",
     "output_type": "stream",
     "text": [
      "[2 3 4]\n",
      "['b' 'c']\n",
      "['2' 'f']\n"
     ]
    }
   ],
   "source": [
    "#arr 3,4,5\n",
    "print(arr[2:5])\n",
    "#arr2 b ve c\n",
    "print(arr2[0,1:])\n",
    "#arr3 2 ve f\n",
    "print(arr3[0,:,1])"
   ]
  },
  {
   "cell_type": "code",
   "execution_count": null,
   "id": "73dc1e33-383f-480f-b279-dbae899b72e0",
   "metadata": {},
   "outputs": [],
   "source": []
  },
  {
   "cell_type": "code",
   "execution_count": null,
   "id": "e38bc04b-45f9-45b4-80fc-f1c1768a5a25",
   "metadata": {},
   "outputs": [],
   "source": []
  },
  {
   "cell_type": "markdown",
   "id": "64647b8c-10b8-4be3-8153-455d7f628984",
   "metadata": {},
   "source": [
    "Sıfırlardan oluşan ve birlerden oluşan iki tane iki boyutlu array oluşturulur. Bu arrayler satır ve sütun bazında birleştirilir. "
   ]
  },
  {
   "cell_type": "code",
   "execution_count": 12,
   "id": "27bac5c3-c613-435e-b804-2a5f3c353b6d",
   "metadata": {},
   "outputs": [
    {
     "name": "stdout",
     "output_type": "stream",
     "text": [
      "[[0 0 0 0]\n",
      " [0 0 0 0]\n",
      " [0 0 0 0]]\n",
      "[[1 1 1 1]\n",
      " [1 1 1 1]\n",
      " [1 1 1 1]]\n"
     ]
    }
   ],
   "source": [
    "zeros_array = np.zeros((3,4), dtype=\"int\")\n",
    "print(zeros_array)\n",
    "ones_array = np.ones((3,4), dtype=\"int\")\n",
    "print(ones_array)"
   ]
  },
  {
   "cell_type": "code",
   "execution_count": 22,
   "id": "f1b6eaba-69be-4305-a53d-c01a349e6c0a",
   "metadata": {},
   "outputs": [
    {
     "data": {
      "text/plain": [
       "array([[0, 0, 0, 0],\n",
       "       [0, 0, 0, 0],\n",
       "       [0, 0, 0, 0],\n",
       "       [1, 1, 1, 1],\n",
       "       [1, 1, 1, 1],\n",
       "       [1, 1, 1, 1]])"
      ]
     },
     "execution_count": 22,
     "metadata": {},
     "output_type": "execute_result"
    }
   ],
   "source": [
    "#satir bazinda birlestirme\n",
    "np.concatenate([zeros_array,ones_array], axis=0)"
   ]
  },
  {
   "cell_type": "code",
   "execution_count": 23,
   "id": "86cf5f1a-d1b6-4dc1-9765-cb1149ffc6db",
   "metadata": {},
   "outputs": [
    {
     "data": {
      "text/plain": [
       "array([[0, 0, 0, 0, 1, 1, 1, 1],\n",
       "       [0, 0, 0, 0, 1, 1, 1, 1],\n",
       "       [0, 0, 0, 0, 1, 1, 1, 1]])"
      ]
     },
     "execution_count": 23,
     "metadata": {},
     "output_type": "execute_result"
    }
   ],
   "source": [
    "#sutun bazinda birlestirme\n",
    "np.concatenate([zeros_array,ones_array], axis=1)"
   ]
  },
  {
   "cell_type": "code",
   "execution_count": null,
   "id": "4c54fe83-4c2c-43a5-9beb-90e524414fd5",
   "metadata": {},
   "outputs": [],
   "source": []
  },
  {
   "cell_type": "code",
   "execution_count": null,
   "id": "b32dc272-b97b-495d-8d0d-bcd74c061b32",
   "metadata": {},
   "outputs": [],
   "source": []
  }
 ],
 "metadata": {
  "kernelspec": {
   "display_name": "Python 3 (ipykernel)",
   "language": "python",
   "name": "python3"
  },
  "language_info": {
   "codemirror_mode": {
    "name": "ipython",
    "version": 3
   },
   "file_extension": ".py",
   "mimetype": "text/x-python",
   "name": "python",
   "nbconvert_exporter": "python",
   "pygments_lexer": "ipython3",
   "version": "3.11.7"
  }
 },
 "nbformat": 4,
 "nbformat_minor": 5
}
